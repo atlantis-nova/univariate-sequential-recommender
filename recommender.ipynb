{
 "cells": [
  {
   "cell_type": "code",
   "execution_count": 2,
   "metadata": {},
   "outputs": [],
   "source": [
    "from groq import Groq\n",
    "    \n",
    "client = Groq(api_key='<your_API_KEY')\n",
    "\n",
    "def send_request(system, prompt):\n",
    "\t# input message written by user\n",
    "\tmessage = [\n",
    "\t\t{\"role\": \"system\", \"content\": system}, \n",
    "\t\t{\"role\": \"user\", \"content\": prompt}\n",
    "\t]\n",
    "\n",
    "\tchat_completion = client.chat.completions.create(\n",
    "\t\tmessages=message,\n",
    "\t\tmodel=\"llama3-70b-8192\",\n",
    "\t\ttemperature=0.7,\n",
    "\t\tmax_tokens=2048,\n",
    "\t\tstream=True,\n",
    "\t\tstop=None,\n",
    "\t\ttop_p=0.8\n",
    "\t)\n",
    "\n",
    "\t# Accumulate the chunks of the response\n",
    "\tresponse_text = \"\"\n",
    "\tfor chunk in chat_completion:\n",
    "\t\tresponse_text += chunk.choices[0].delta.content or \"\"\n",
    "\n",
    "\tresponse_data = {\n",
    "\t\t\"response\": response_text\n",
    "\t}\n",
    "\n",
    "\treturn response_data['response']"
   ]
  },
  {
   "cell_type": "markdown",
   "metadata": {},
   "source": [
    "### pre-cached clustering"
   ]
  },
  {
   "cell_type": "code",
   "execution_count": 4,
   "metadata": {},
   "outputs": [
    {
     "data": {
      "text/html": [
       "<div>\n",
       "<style scoped>\n",
       "    .dataframe tbody tr th:only-of-type {\n",
       "        vertical-align: middle;\n",
       "    }\n",
       "\n",
       "    .dataframe tbody tr th {\n",
       "        vertical-align: top;\n",
       "    }\n",
       "\n",
       "    .dataframe thead th {\n",
       "        text-align: right;\n",
       "    }\n",
       "</style>\n",
       "<table border=\"1\" class=\"dataframe\">\n",
       "  <thead>\n",
       "    <tr style=\"text-align: right;\">\n",
       "      <th></th>\n",
       "      <th>index</th>\n",
       "      <th>Name</th>\n",
       "      <th>Release date</th>\n",
       "      <th>Estimated owners</th>\n",
       "      <th>Peak CCU</th>\n",
       "      <th>Price</th>\n",
       "      <th>About the game</th>\n",
       "      <th>Total_reviews</th>\n",
       "      <th>Genres</th>\n",
       "      <th>Tags</th>\n",
       "    </tr>\n",
       "  </thead>\n",
       "  <tbody>\n",
       "    <tr>\n",
       "      <th>0</th>\n",
       "      <td>0</td>\n",
       "      <td>Galactic Bowling</td>\n",
       "      <td>Oct 21, 2008</td>\n",
       "      <td>0 - 20000</td>\n",
       "      <td>0</td>\n",
       "      <td>19.99</td>\n",
       "      <td>Galactic Bowling is an exaggerated and stylize...</td>\n",
       "      <td>17</td>\n",
       "      <td>Casual,Indie,Sports</td>\n",
       "      <td>[Indie, Casual, Sports, Bowling]</td>\n",
       "    </tr>\n",
       "    <tr>\n",
       "      <th>1</th>\n",
       "      <td>1</td>\n",
       "      <td>Train Bandit</td>\n",
       "      <td>Oct 12, 2017</td>\n",
       "      <td>0 - 20000</td>\n",
       "      <td>0</td>\n",
       "      <td>0.99</td>\n",
       "      <td>THE LAW!! Looks to be a showdown atop a train....</td>\n",
       "      <td>58</td>\n",
       "      <td>Action,Indie</td>\n",
       "      <td>[Indie, Action, Pixel Graphics, 2D, Retro, Arc...</td>\n",
       "    </tr>\n",
       "    <tr>\n",
       "      <th>2</th>\n",
       "      <td>6</td>\n",
       "      <td>TD Worlds</td>\n",
       "      <td>Jan 9, 2022</td>\n",
       "      <td>0 - 20000</td>\n",
       "      <td>3</td>\n",
       "      <td>10.99</td>\n",
       "      <td>TD Worlds is a dynamic, highly strategical gam...</td>\n",
       "      <td>28</td>\n",
       "      <td>Indie,Strategy</td>\n",
       "      <td>[Tower Defense, Rogue-lite, RTS, Replay Value,...</td>\n",
       "    </tr>\n",
       "    <tr>\n",
       "      <th>3</th>\n",
       "      <td>8</td>\n",
       "      <td>MazM: Jekyll and Hyde</td>\n",
       "      <td>Apr 2, 2020</td>\n",
       "      <td>0 - 20000</td>\n",
       "      <td>1</td>\n",
       "      <td>14.99</td>\n",
       "      <td>'MazM: Jekyll and Hyde' is a darkly entertaini...</td>\n",
       "      <td>82</td>\n",
       "      <td>Adventure,RPG,Simulation,Strategy</td>\n",
       "      <td>[Adventure, Simulation, RPG, Strategy, Singlep...</td>\n",
       "    </tr>\n",
       "    <tr>\n",
       "      <th>4</th>\n",
       "      <td>9</td>\n",
       "      <td>Deadlings: Rotten Edition</td>\n",
       "      <td>Nov 11, 2014</td>\n",
       "      <td>50000 - 100000</td>\n",
       "      <td>0</td>\n",
       "      <td>3.99</td>\n",
       "      <td>Death is lonely. He has zero friends on his Fa...</td>\n",
       "      <td>270</td>\n",
       "      <td>Action,Adventure,Indie</td>\n",
       "      <td>[Action, Indie, Adventure, Puzzle-Platformer, ...</td>\n",
       "    </tr>\n",
       "    <tr>\n",
       "      <th>...</th>\n",
       "      <td>...</td>\n",
       "      <td>...</td>\n",
       "      <td>...</td>\n",
       "      <td>...</td>\n",
       "      <td>...</td>\n",
       "      <td>...</td>\n",
       "      <td>...</td>\n",
       "      <td>...</td>\n",
       "      <td>...</td>\n",
       "      <td>...</td>\n",
       "    </tr>\n",
       "    <tr>\n",
       "      <th>41931</th>\n",
       "      <td>85065</td>\n",
       "      <td>Drop Doll</td>\n",
       "      <td>Jan 5, 2024</td>\n",
       "      <td>0 - 20000</td>\n",
       "      <td>0</td>\n",
       "      <td>1.79</td>\n",
       "      <td>Game Introduction: 'Drop Doll' is a casual puz...</td>\n",
       "      <td>28</td>\n",
       "      <td>Casual,Early Access</td>\n",
       "      <td>[Mature, Sexual Content, Casual, Relaxing, NSF...</td>\n",
       "    </tr>\n",
       "    <tr>\n",
       "      <th>41932</th>\n",
       "      <td>85077</td>\n",
       "      <td>Ant Farm Simulator</td>\n",
       "      <td>Jan 5, 2024</td>\n",
       "      <td>0 - 20000</td>\n",
       "      <td>3</td>\n",
       "      <td>0.99</td>\n",
       "      <td>Ant Farm (formicarium) With A Colony Of Ants. ...</td>\n",
       "      <td>2</td>\n",
       "      <td>Casual,Indie,Simulation,Early Access</td>\n",
       "      <td>[Simulation, Casual, Sandbox, Farming Sim, Lif...</td>\n",
       "    </tr>\n",
       "    <tr>\n",
       "      <th>41933</th>\n",
       "      <td>85079</td>\n",
       "      <td>The Holyburn Witches</td>\n",
       "      <td>Jan 5, 2024</td>\n",
       "      <td>0 - 20000</td>\n",
       "      <td>0</td>\n",
       "      <td>2.99</td>\n",
       "      <td>In the once tranquil village of Holyburn, Main...</td>\n",
       "      <td>4</td>\n",
       "      <td>Casual,Indie,Early Access</td>\n",
       "      <td>[Casual, Adventure, Point &amp; Click, Exploration...</td>\n",
       "    </tr>\n",
       "    <tr>\n",
       "      <th>41934</th>\n",
       "      <td>85083</td>\n",
       "      <td>Digital Girlfriend</td>\n",
       "      <td>Jan 5, 2024</td>\n",
       "      <td>0 - 20000</td>\n",
       "      <td>0</td>\n",
       "      <td>3.74</td>\n",
       "      <td>《Digital Girlfriend》 is a nurturing game of su...</td>\n",
       "      <td>15</td>\n",
       "      <td>Adventure,Casual,Indie</td>\n",
       "      <td>[Casual, Sexual Content, Nudity, Adventure, Ma...</td>\n",
       "    </tr>\n",
       "    <tr>\n",
       "      <th>41935</th>\n",
       "      <td>85085</td>\n",
       "      <td>Above the Hill</td>\n",
       "      <td>Jan 5, 2024</td>\n",
       "      <td>0 - 20000</td>\n",
       "      <td>0</td>\n",
       "      <td>8.49</td>\n",
       "      <td>A horror game about a hicker who found himself...</td>\n",
       "      <td>3</td>\n",
       "      <td>Adventure,Indie</td>\n",
       "      <td>[Adventure, Action-Adventure, Exploration, FPS...</td>\n",
       "    </tr>\n",
       "  </tbody>\n",
       "</table>\n",
       "<p>41936 rows × 10 columns</p>\n",
       "</div>"
      ],
      "text/plain": [
       "       index                       Name  Release date Estimated owners  \\\n",
       "0          0           Galactic Bowling  Oct 21, 2008        0 - 20000   \n",
       "1          1               Train Bandit  Oct 12, 2017        0 - 20000   \n",
       "2          6                  TD Worlds   Jan 9, 2022        0 - 20000   \n",
       "3          8      MazM: Jekyll and Hyde   Apr 2, 2020        0 - 20000   \n",
       "4          9  Deadlings: Rotten Edition  Nov 11, 2014   50000 - 100000   \n",
       "...      ...                        ...           ...              ...   \n",
       "41931  85065                  Drop Doll   Jan 5, 2024        0 - 20000   \n",
       "41932  85077         Ant Farm Simulator   Jan 5, 2024        0 - 20000   \n",
       "41933  85079       The Holyburn Witches   Jan 5, 2024        0 - 20000   \n",
       "41934  85083         Digital Girlfriend   Jan 5, 2024        0 - 20000   \n",
       "41935  85085             Above the Hill   Jan 5, 2024        0 - 20000   \n",
       "\n",
       "       Peak CCU  Price                                     About the game  \\\n",
       "0             0  19.99  Galactic Bowling is an exaggerated and stylize...   \n",
       "1             0   0.99  THE LAW!! Looks to be a showdown atop a train....   \n",
       "2             3  10.99  TD Worlds is a dynamic, highly strategical gam...   \n",
       "3             1  14.99  'MazM: Jekyll and Hyde' is a darkly entertaini...   \n",
       "4             0   3.99  Death is lonely. He has zero friends on his Fa...   \n",
       "...         ...    ...                                                ...   \n",
       "41931         0   1.79  Game Introduction: 'Drop Doll' is a casual puz...   \n",
       "41932         3   0.99  Ant Farm (formicarium) With A Colony Of Ants. ...   \n",
       "41933         0   2.99  In the once tranquil village of Holyburn, Main...   \n",
       "41934         0   3.74  《Digital Girlfriend》 is a nurturing game of su...   \n",
       "41935         0   8.49  A horror game about a hicker who found himself...   \n",
       "\n",
       "       Total_reviews                                Genres  \\\n",
       "0                 17                   Casual,Indie,Sports   \n",
       "1                 58                          Action,Indie   \n",
       "2                 28                        Indie,Strategy   \n",
       "3                 82     Adventure,RPG,Simulation,Strategy   \n",
       "4                270                Action,Adventure,Indie   \n",
       "...              ...                                   ...   \n",
       "41931             28                   Casual,Early Access   \n",
       "41932              2  Casual,Indie,Simulation,Early Access   \n",
       "41933              4             Casual,Indie,Early Access   \n",
       "41934             15                Adventure,Casual,Indie   \n",
       "41935              3                       Adventure,Indie   \n",
       "\n",
       "                                                    Tags  \n",
       "0                       [Indie, Casual, Sports, Bowling]  \n",
       "1      [Indie, Action, Pixel Graphics, 2D, Retro, Arc...  \n",
       "2      [Tower Defense, Rogue-lite, RTS, Replay Value,...  \n",
       "3      [Adventure, Simulation, RPG, Strategy, Singlep...  \n",
       "4      [Action, Indie, Adventure, Puzzle-Platformer, ...  \n",
       "...                                                  ...  \n",
       "41931  [Mature, Sexual Content, Casual, Relaxing, NSF...  \n",
       "41932  [Simulation, Casual, Sandbox, Farming Sim, Lif...  \n",
       "41933  [Casual, Adventure, Point & Click, Exploration...  \n",
       "41934  [Casual, Sexual Content, Nudity, Adventure, Ma...  \n",
       "41935  [Adventure, Action-Adventure, Exploration, FPS...  \n",
       "\n",
       "[41936 rows x 10 columns]"
      ]
     },
     "execution_count": 4,
     "metadata": {},
     "output_type": "execute_result"
    }
   ],
   "source": [
    "import pandas as pd\n",
    "\n",
    "df_games = pd.read_parquet('files/games.parquet')\n",
    "df_games['Tags'] = df_games['Tags'].apply(lambda x : x.split(','))\n",
    "# df_games['Genres'] = df_games['Genres'].apply(lambda x : x.split(','))\n",
    "df_games = df_games.drop(['game_vector', 'game_indices', 'Score', 'Recommendations'], axis=1)\n",
    "df_games"
   ]
  },
  {
   "cell_type": "code",
   "execution_count": null,
   "metadata": {},
   "outputs": [
    {
     "data": {
      "text/html": [
       "<div>\n",
       "<style scoped>\n",
       "    .dataframe tbody tr th:only-of-type {\n",
       "        vertical-align: middle;\n",
       "    }\n",
       "\n",
       "    .dataframe tbody tr th {\n",
       "        vertical-align: top;\n",
       "    }\n",
       "\n",
       "    .dataframe thead th {\n",
       "        text-align: right;\n",
       "    }\n",
       "</style>\n",
       "<table border=\"1\" class=\"dataframe\">\n",
       "  <thead>\n",
       "    <tr style=\"text-align: right;\">\n",
       "      <th></th>\n",
       "      <th>tags</th>\n",
       "      <th>vector_tags</th>\n",
       "    </tr>\n",
       "  </thead>\n",
       "  <tbody>\n",
       "    <tr>\n",
       "      <th>0</th>\n",
       "      <td>1980s</td>\n",
       "      <td>[-0.034906115, 0.11030235, 0.0038526154, 0.030...</td>\n",
       "    </tr>\n",
       "    <tr>\n",
       "      <th>1</th>\n",
       "      <td>1990's</td>\n",
       "      <td>[-0.055882152, 0.04985953, -0.017577216, 0.011...</td>\n",
       "    </tr>\n",
       "    <tr>\n",
       "      <th>2</th>\n",
       "      <td>2.5D</td>\n",
       "      <td>[-0.014469616, -0.010294223, 0.10194698, 0.008...</td>\n",
       "    </tr>\n",
       "    <tr>\n",
       "      <th>3</th>\n",
       "      <td>2D</td>\n",
       "      <td>[0.036877517, -0.0131612625, -0.026026763, -0....</td>\n",
       "    </tr>\n",
       "    <tr>\n",
       "      <th>4</th>\n",
       "      <td>2D Fighter</td>\n",
       "      <td>[-0.013568571, 0.065569684, -0.08865826, 0.011...</td>\n",
       "    </tr>\n",
       "    <tr>\n",
       "      <th>...</th>\n",
       "      <td>...</td>\n",
       "      <td>...</td>\n",
       "    </tr>\n",
       "    <tr>\n",
       "      <th>441</th>\n",
       "      <td>World War I</td>\n",
       "      <td>[-0.051502924, 0.044791527, -0.015061613, 0.00...</td>\n",
       "    </tr>\n",
       "    <tr>\n",
       "      <th>442</th>\n",
       "      <td>World War II</td>\n",
       "      <td>[-0.031718876, 0.082735814, -0.0749105, 0.0292...</td>\n",
       "    </tr>\n",
       "    <tr>\n",
       "      <th>443</th>\n",
       "      <td>Wrestling</td>\n",
       "      <td>[-0.01779714, 0.027195442, -0.009485713, 0.045...</td>\n",
       "    </tr>\n",
       "    <tr>\n",
       "      <th>444</th>\n",
       "      <td>Zombies</td>\n",
       "      <td>[-0.037441406, 0.070383266, -0.076504104, 0.01...</td>\n",
       "    </tr>\n",
       "    <tr>\n",
       "      <th>445</th>\n",
       "      <td>e-sports</td>\n",
       "      <td>[-0.014401939, 0.05155727, 0.024416866, -0.072...</td>\n",
       "    </tr>\n",
       "  </tbody>\n",
       "</table>\n",
       "<p>446 rows × 2 columns</p>\n",
       "</div>"
      ],
      "text/plain": [
       "             tags                                        vector_tags\n",
       "0           1980s  [-0.034906115, 0.11030235, 0.0038526154, 0.030...\n",
       "1          1990's  [-0.055882152, 0.04985953, -0.017577216, 0.011...\n",
       "2            2.5D  [-0.014469616, -0.010294223, 0.10194698, 0.008...\n",
       "3              2D  [0.036877517, -0.0131612625, -0.026026763, -0....\n",
       "4      2D Fighter  [-0.013568571, 0.065569684, -0.08865826, 0.011...\n",
       "..            ...                                                ...\n",
       "441   World War I  [-0.051502924, 0.044791527, -0.015061613, 0.00...\n",
       "442  World War II  [-0.031718876, 0.082735814, -0.0749105, 0.0292...\n",
       "443     Wrestling  [-0.01779714, 0.027195442, -0.009485713, 0.045...\n",
       "444       Zombies  [-0.037441406, 0.070383266, -0.076504104, 0.01...\n",
       "445      e-sports  [-0.014401939, 0.05155727, 0.024416866, -0.072...\n",
       "\n",
       "[446 rows x 2 columns]"
      ]
     },
     "execution_count": 21,
     "metadata": {},
     "output_type": "execute_result"
    }
   ],
   "source": [
    "# if we were to choose to encode our data using a pre-trained encoder\n",
    "# (you can replace the co-occurence Matrix relatioship by running this code)\n",
    "\n",
    "# from sentence_transformers import SentenceTransformer\n",
    "# from tqdm import tqdm\n",
    "# tqdm.pandas()\n",
    "\n",
    "# # we instatiate the model first, so we can assign it to multiple copies of the engine\n",
    "# model = SentenceTransformer('sentence-transformers/all-MiniLM-L6-v2', device='cpu')\n",
    "\n",
    "# tags_set = set()\n",
    "# [[tags_set.add(tag) for tag in sample] for sample in df_games['Tags'].values.tolist()]\n",
    "\n",
    "# df_raw = pd.DataFrame(sorted(tags_set), columns=['tags'])\n",
    "# df_raw['vector_tags'] = df_raw['tags'].apply(lambda x : model.encode(x))\n",
    "# df_raw"
   ]
  },
  {
   "cell_type": "code",
   "execution_count": 34,
   "metadata": {},
   "outputs": [],
   "source": [
    "import pandas as pd\n",
    "\n",
    "# use relationships extracted from a co-occurrence matrix\n",
    "df_raw = pd.read_parquet('files/M.parquet')\n",
    "df = pd.DataFrame([df_raw.values.tolist()]).T\n",
    "df.insert(0, 'tags', df_raw.index)\n",
    "df.columns = ['tags', 'vector_tags']\n",
    "df_raw = df"
   ]
  },
  {
   "cell_type": "code",
   "execution_count": 35,
   "metadata": {},
   "outputs": [
    {
     "name": "stderr",
     "output_type": "stream",
     "text": [
      "C:\\Users\\ardit\\AppData\\Local\\Temp\\ipykernel_39720\\4005755062.py:16: ClusterWarning: The symmetric non-negative hollow observation matrix looks suspiciously like an uncondensed distance matrix\n",
      "  linkage_matrix = linkage(distance_matrix, method='ward', metric='euclidean', optimal_ordering=True) # there is no randomic element\n"
     ]
    }
   ],
   "source": [
    "import pandas as pd\n",
    "import numpy as np\n",
    "from scipy.cluster.hierarchy import linkage, fcluster, dendrogram\n",
    "import matplotlib.pyplot as plt\n",
    "\n",
    "id2t3 = {x[0]:x[1] for x in enumerate(df_raw['tags'])}\n",
    "df_raw['tags'] = df_raw.index\n",
    "relationships = pd.DataFrame(df_raw['vector_tags'].tolist()).values\n",
    "\n",
    "# Convert to a pandas DataFrame for easier manipulation\n",
    "tags = df_raw.tags.tolist()\n",
    "df_rel = pd.DataFrame(relationships, index=tags)\n",
    "\n",
    "def compute_linkage_matrix(df_rel):\n",
    "\tdistance_matrix = 1 - (df_rel / df_rel.max()).values # are there other variations?\n",
    "\tlinkage_matrix = linkage(distance_matrix, method='ward', metric='euclidean', optimal_ordering=True) # there is no randomic element\n",
    "\treturn linkage_matrix\n",
    "\n",
    "def visualize_dendrogram(linkage_matrix, color_threshold):\n",
    "\tplt.figure(figsize=(18, 6))\n",
    "\tdendrogram(linkage_matrix, labels=tags, leaf_rotation=90, leaf_font_size=4, color_threshold=color_threshold)\n",
    "\tplt.title('Tag Hierarchy')\n",
    "\tplt.xlabel('Distance')\n",
    "\tplt.ylabel('Tags')\n",
    "\tplt.show()\n",
    "\n",
    "linkage_matrix = compute_linkage_matrix(df_rel)"
   ]
  },
  {
   "cell_type": "code",
   "execution_count": 36,
   "metadata": {},
   "outputs": [
    {
     "data": {
      "image/png": "[encoded data removed]",
      "text/plain": [
       "<Figure size 1800x600 with 1 Axes>"
      ]
     },
     "metadata": {},
     "output_type": "display_data"
    }
   ],
   "source": [
    "visualize_dendrogram(linkage_matrix, 1.74)"
   ]
  },
  {
   "cell_type": "code",
   "execution_count": 37,
   "metadata": {},
   "outputs": [
    {
     "data": {
      "image/png": "[encoded data removed]",
      "text/plain": [
       "<Figure size 1800x600 with 1 Axes>"
      ]
     },
     "metadata": {},
     "output_type": "display_data"
    }
   ],
   "source": [
    "visualize_dendrogram(linkage_matrix, 1.47)"
   ]
  },
  {
   "cell_type": "code",
   "execution_count": 58,
   "metadata": {},
   "outputs": [
    {
     "data": {
      "text/html": [
       "<div>\n",
       "<style scoped>\n",
       "    .dataframe tbody tr th:only-of-type {\n",
       "        vertical-align: middle;\n",
       "    }\n",
       "\n",
       "    .dataframe tbody tr th {\n",
       "        vertical-align: top;\n",
       "    }\n",
       "\n",
       "    .dataframe thead th {\n",
       "        text-align: right;\n",
       "    }\n",
       "</style>\n",
       "<table border=\"1\" class=\"dataframe\">\n",
       "  <thead>\n",
       "    <tr style=\"text-align: right;\">\n",
       "      <th></th>\n",
       "      <th>label_1</th>\n",
       "      <th>label_2</th>\n",
       "      <th>label_3</th>\n",
       "    </tr>\n",
       "  </thead>\n",
       "  <tbody>\n",
       "    <tr>\n",
       "      <th>0</th>\n",
       "      <td>55</td>\n",
       "      <td>123</td>\n",
       "      <td>0</td>\n",
       "    </tr>\n",
       "    <tr>\n",
       "      <th>1</th>\n",
       "      <td>44</td>\n",
       "      <td>105</td>\n",
       "      <td>1</td>\n",
       "    </tr>\n",
       "    <tr>\n",
       "      <th>2</th>\n",
       "      <td>15</td>\n",
       "      <td>44</td>\n",
       "      <td>2</td>\n",
       "    </tr>\n",
       "    <tr>\n",
       "      <th>3</th>\n",
       "      <td>42</td>\n",
       "      <td>101</td>\n",
       "      <td>3</td>\n",
       "    </tr>\n",
       "    <tr>\n",
       "      <th>4</th>\n",
       "      <td>15</td>\n",
       "      <td>45</td>\n",
       "      <td>4</td>\n",
       "    </tr>\n",
       "    <tr>\n",
       "      <th>...</th>\n",
       "      <td>...</td>\n",
       "      <td>...</td>\n",
       "      <td>...</td>\n",
       "    </tr>\n",
       "    <tr>\n",
       "      <th>441</th>\n",
       "      <td>11</td>\n",
       "      <td>26</td>\n",
       "      <td>441</td>\n",
       "    </tr>\n",
       "    <tr>\n",
       "      <th>442</th>\n",
       "      <td>7</td>\n",
       "      <td>11</td>\n",
       "      <td>442</td>\n",
       "    </tr>\n",
       "    <tr>\n",
       "      <th>443</th>\n",
       "      <td>11</td>\n",
       "      <td>17</td>\n",
       "      <td>443</td>\n",
       "    </tr>\n",
       "    <tr>\n",
       "      <th>444</th>\n",
       "      <td>5</td>\n",
       "      <td>9</td>\n",
       "      <td>444</td>\n",
       "    </tr>\n",
       "    <tr>\n",
       "      <th>445</th>\n",
       "      <td>11</td>\n",
       "      <td>19</td>\n",
       "      <td>445</td>\n",
       "    </tr>\n",
       "  </tbody>\n",
       "</table>\n",
       "<p>446 rows × 3 columns</p>\n",
       "</div>"
      ],
      "text/plain": [
       "     label_1  label_2  label_3\n",
       "0         55      123        0\n",
       "1         44      105        1\n",
       "2         15       44        2\n",
       "3         42      101        3\n",
       "4         15       45        4\n",
       "..       ...      ...      ...\n",
       "441       11       26      441\n",
       "442        7       11      442\n",
       "443       11       17      443\n",
       "444        5        9      444\n",
       "445       11       19      445\n",
       "\n",
       "[446 rows x 3 columns]"
      ]
     },
     "execution_count": 58,
     "metadata": {},
     "output_type": "execute_result"
    }
   ],
   "source": [
    "# decide n_clusters\n",
    "def print_statement(label_n):\n",
    "\tprint(f'label_{label_n}:', df[f'label_{label_n}'].max())\n",
    "\tdisplay(df.value_counts(f'label_{label_n}')[0:10])\n",
    "      \n",
    "df = pd.DataFrame(df_rel.index, columns=['label_3'])\n",
    "\n",
    "# add clusters\n",
    "layers_list = list()\n",
    "layers_list.append(fcluster(linkage_matrix, 1.7, criterion='distance'))\n",
    "layers_list.append(fcluster(linkage_matrix, 1.47, criterion='distance'))\n",
    "for layer in range(0, len(layers_list)):\n",
    "    df.insert(layer, f'label_{layer+1}', layers_list[layer]-1)\n",
    "df.to_csv('files/df_full.csv', index=None)\n",
    "df"
   ]
  },
  {
   "cell_type": "code",
   "execution_count": 60,
   "metadata": {},
   "outputs": [
    {
     "name": "stdout",
     "output_type": "stream",
     "text": [
      "label_1: 58\n"
     ]
    },
    {
     "data": {
      "text/plain": [
       "label_1\n",
       "11    77\n",
       "15    62\n",
       "32    20\n",
       "27    13\n",
       "21    13\n",
       "40    11\n",
       "12    11\n",
       "2     10\n",
       "28    10\n",
       "37     8\n",
       "Name: count, dtype: int64"
      ]
     },
     "metadata": {},
     "output_type": "display_data"
    },
    {
     "name": "stdout",
     "output_type": "stream",
     "text": [
      "label_2: 127\n"
     ]
    },
    {
     "data": {
      "text/plain": [
       "label_2\n",
       "43    20\n",
       "45    12\n",
       "26    10\n",
       "47     9\n",
       "24     9\n",
       "28     7\n",
       "2      7\n",
       "17     7\n",
       "0      7\n",
       "81     6\n",
       "Name: count, dtype: int64"
      ]
     },
     "metadata": {},
     "output_type": "display_data"
    }
   ],
   "source": [
    "# show distribution\n",
    "print_statement(1)\n",
    "print_statement(2)"
   ]
  },
  {
   "cell_type": "markdown",
   "metadata": {},
   "source": [
    "### super-cluster labeling"
   ]
  },
  {
   "cell_type": "code",
   "execution_count": 43,
   "metadata": {},
   "outputs": [],
   "source": [
    "import time\n",
    "\n",
    "def compute_tags(df, tag_lists, layer, verbose=False, max_retries=5):\n",
    "\n",
    "\tnew_tags = list()\n",
    "\tfor g in df.groupby([f'label_{layer}']):\n",
    "\t\tdf_ = g[1]\n",
    "\t\ttime.sleep(1)\n",
    "\t\t\n",
    "\t\ttag_dictionary = tag_lists[layer]\n",
    "\t\tcounter = 0\n",
    "\t\tnew_tag = ''\n",
    "\t\twhile counter < max_retries:\n",
    "\t\t\ttry:\n",
    "\t\t\t\tcluster_n = df_[f'label_{layer}'].tolist()[0]\n",
    "\t\t\t\ttag_list = [tag_dictionary[tag] for tag in df_[f'label_{layer+1}'].tolist()]\n",
    "\n",
    "\t\t\t\tresponse = send_request(\n",
    "\t\t\t\t\tsystem=\"you are a valid assistant\",\n",
    "\t\t\t\t\tprompt=f\"\"\"\\\n",
    "\t\t\t\t\tGiven the following tags:\n",
    "\t\t\t\t\t{tag_list}\n",
    "\n",
    "\t\t\t\t\tOutput **a single NEW hihg-level tag** to define the group (output it after GROUP_TAG:), dont add your comments\n",
    "\t\t\t\t\tGROUP_TAG:\n",
    "\t\t\t\t\t\"\"\"\n",
    "\t\t\t\t)\n",
    "\t\t\t\tnew_tag = response.split('TAG:')[1].strip()\n",
    "\t\t\t\tif verbose : print(layer, cluster_n, '\\t', new_tag, '<-', tag_list)\n",
    "\t\t\t\tbreak\n",
    "\t\t\texcept Exception as e:\n",
    "\t\t\t\tif verbose : print(counter, e)\n",
    "\t\t\t\tcounter + 1\n",
    "\n",
    "\t\tnew_tags.append([cluster_n, new_tag])\n",
    "\n",
    "\t# add dictionary to tag lists\n",
    "\tnew_tags = pd.DataFrame(new_tags, columns=['cluster_n', 'new_tag'])\n",
    "\ttag_lists[layer-1] = dict(new_tags.values)\n",
    "\n",
    "\treturn new_tags, tag_lists\n",
    "\n",
    "# we store the tag list of the last layer\n",
    "tag_lists = [0, 0, id2t3]\n",
    "\n",
    "# for layer in range(len(df.columns)-1, 0, -1):\n",
    "# \tnew_tags, tag_lists = compute_tags(df, tag_lists=tag_lists, layer=layer, verbose=True, max_retries=5)\n",
    "# \tnew_tags.to_csv(f'new_tags_{layer}.csv', index=None)"
   ]
  },
  {
   "cell_type": "markdown",
   "metadata": {},
   "source": [
    "### recommender function"
   ]
  },
  {
   "cell_type": "code",
   "execution_count": 45,
   "metadata": {},
   "outputs": [],
   "source": [
    "import warnings\n",
    "warnings.filterwarnings('ignore')\n",
    "\n",
    "# load tag lists back\n",
    "tag_lists = [0, 0, id2t3]\n",
    "for layer in range(len(df.columns)-1, 0, -1):\n",
    "\t# print(layer)\n",
    "\tdict_tags = dict(pd.read_csv(f'files/new_tags_{layer}.csv').values)\n",
    "\ttag_lists[layer-1] = dict_tags\n",
    "sample_tags = [*tag_lists[-1].values()]\n",
    "\n",
    "# full dataframe\n",
    "df = pd.read_csv('df_full.csv')\n",
    "\n",
    "# labeled dataframe\n",
    "df_labeled = df.copy()\n",
    "df_labeled = df_labeled.sort_values([*df_labeled.columns])\n",
    "for layer in range(1, len(df_labeled.columns)+1):\n",
    "    df_labeled[f'label_{layer}'] = df_labeled[f'label_{layer}'].apply(lambda x : tag_lists[layer-1][x])\n",
    "# correct duplicate LLM labels\n",
    "tag_lists[0][41] = 'Dark Action'\n",
    "df_labeled[0:15]\n",
    "\n",
    "# create index dict\n",
    "tag2index = {tag_lists[2][value]:value for index, value in enumerate(tag_lists[2])}"
   ]
  },
  {
   "cell_type": "code",
   "execution_count": 46,
   "metadata": {},
   "outputs": [
    {
     "name": "stderr",
     "output_type": "stream",
     "text": [
      "processing samples: 100%|██████████| 41936/41936 [00:00<00:00, 149619.46it/s]\n"
     ]
    }
   ],
   "source": [
    "from tqdm import tqdm\n",
    "\n",
    "def encode(input_tags):\n",
    "    vector = np.zeros(len(tag_lists[-1]))\n",
    "    indexes = [tag2index[x] for x in input_tags]\n",
    "    for index in indexes:\n",
    "        vector[index] = 1\n",
    "    return vector\n",
    "\n",
    "# extract raw lists\n",
    "sample_list = df_games['Tags'].values.tolist()\n",
    "\n",
    "sample_vectors = list()\n",
    "for sample in tqdm(sample_list, desc=\"processing samples\"):\n",
    "\tsample_vectors.append(encode(sample))\n",
    "     \n",
    "sample_vectors = np.array(sample_vectors)"
   ]
  },
  {
   "cell_type": "code",
   "execution_count": 47,
   "metadata": {},
   "outputs": [],
   "source": [
    "#compute multipliers\n",
    "tag_stats = dict()\n",
    "tag_frequency = dict()\n",
    "tag_frequency_labeled = dict()\n",
    "for tag in sample_tags:\n",
    "\ttag_count = len([sample for sample in sample_list if tag in sample])\n",
    "\tsample_count = len(sample_list)\n",
    "\tfreq_inv_score = tag_count/sample_count\n",
    "\ttag_index = tag2index[tag]\n",
    "\ttag_frequency[tag_index] = freq_inv_score\n",
    "\ttag_frequency_labeled[tag] = freq_inv_score\n",
    "\t# tag_frequency[tag_index] = 1/len(engine.tag_list)\n",
    "\t# tag_frequency_labeled[tag] = 1/len(engine.tag_list)\n",
    "\n",
    "# show label score given frequency\n",
    "df_frequency_labeled = pd.DataFrame([[tag_frequency_labeled[x], x] for x in tag_frequency_labeled])\n",
    "df_frequency_labeled.columns = ['score', 'tag']\n",
    "df_frequency_labeled.sort_values('score', ascending=False)[0:10]\n",
    "\n",
    "for g in df.groupby('label_1'):\n",
    "\tdf_ = g[1]\n",
    "\tindexes = df_['label_3'].values\n",
    "\tscores = [tag_frequency[index] for index in indexes]\n",
    "\tcluster_score = (1/len(df['label_1'].unique()))/sum(scores)\n",
    "\tnew_scores = [cluster_score for x in scores]\n",
    "\t# new_scores = [min(2.5, x) for x in new_scores]\n",
    "\t# new_scores = [max(0.1, x) for x in new_scores]\n",
    "\n",
    "\t# mean_n_cluster = df['label_1'].value_counts().mean() # if I use max, it creates gigantic values\n",
    "\tfor val in list(zip(indexes, new_scores)):\n",
    "\t\tindex = val[0]\n",
    "\t\tscore = val[1] #* mean_n_cluster/len(indexes)\n",
    "\t\ttag_frequency[index] = score\n",
    "\t\ttag_frequency_labeled[tag_lists[2][index]] = score\n",
    "\n",
    "# we are going to use the matrix to adapt vector weights\n",
    "M_frequency = np.array([*tag_frequency.values()])"
   ]
  },
  {
   "cell_type": "markdown",
   "metadata": {},
   "source": [
    "### testing sequential recommender"
   ]
  },
  {
   "cell_type": "code",
   "execution_count": 48,
   "metadata": {},
   "outputs": [],
   "source": [
    "# after every ingestion we diminish the score of existing vectors\n",
    "def update_vector(historical_vector, cached_vector, ingestion_n, decay_rate):\n",
    "\t# adjust the score of the historical vector\n",
    "\tmultiplier = (decay_rate)**ingestion_n\n",
    "\thistorical_vector *= multiplier\n",
    "\n",
    "\t# add to cached vectr\n",
    "\thistorical_vector = historical_vector + cached_vector\n",
    "\n",
    "\t# TODO : purge vector\n",
    "\treturn historical_vector\n",
    "\n",
    "def user_choices(choices, cap=1):\n",
    "\tchoices_flatten = [x for xs in choices for x in xs]\n",
    "\tvector = encode(choices_flatten)\n",
    "\tvector = np.array(vector) * M_frequency\n",
    "\tvector = np.where(vector > cap, cap, vector)\n",
    "\tvector = np.array(vector)\n",
    "\treturn vector\n",
    "\n",
    "def compute_recommendation(historical_vector, label_1_max=3):\n",
    "\tdf_hist = pd.concat([df, pd.Series(historical_vector)], axis=1)\n",
    "\ttop1 = df_hist.groupby(['label_1']).sum().sort_values(0, ascending=False)[0:label_1_max].index\n",
    "\tdf_hist_ = df_hist[df_hist['label_1'].isin(top1)]\n",
    "\tdf_hist_ = df_hist_.groupby(['label_1', 'label_2', 'label_3']).sum().reset_index()\n",
    "\tdf_hist_['label_1'] = df_hist_['label_1'].apply(lambda x : tag_lists[0][x])\n",
    "\tdf_hist_['label_2'] = df_hist_['label_2'].apply(lambda x : tag_lists[1][x])\n",
    "\tdf_hist_['label_3'] = df_hist_['label_3'].apply(lambda x : tag_lists[2][x])\n",
    "\treturn df_hist_\n",
    "\n",
    "import plotly.express as px\n",
    "from collections import Counter\n",
    "import pandas as pd\n",
    "\n",
    "def plot_sim_freq(results):\n",
    "\t# Flatten the list of samples\n",
    "\tflat_samples = [item for sublist in results for item in sublist]\n",
    "\n",
    "\t# Count the frequency of each sample\n",
    "\tfrequency = Counter(flat_samples)\n",
    "\n",
    "\t# Convert the frequency to a pandas DataFrame\n",
    "\tdf = pd.DataFrame(list(frequency.items()), columns=['cluster', 'frequency'])\n",
    "\tdf = df.sort_values('frequency', ascending=False)\n",
    "\n",
    "\t# Plot the distribution using plotly\n",
    "\tfig = px.bar(df, x='cluster', y='frequency')\n",
    "\tfig.show()"
   ]
  },
  {
   "cell_type": "code",
   "execution_count": 50,
   "metadata": {},
   "outputs": [
    {
     "data": {
      "text/html": [
       "<div>\n",
       "<style scoped>\n",
       "    .dataframe tbody tr th:only-of-type {\n",
       "        vertical-align: middle;\n",
       "    }\n",
       "\n",
       "    .dataframe tbody tr th {\n",
       "        vertical-align: top;\n",
       "    }\n",
       "\n",
       "    .dataframe thead th {\n",
       "        text-align: right;\n",
       "    }\n",
       "</style>\n",
       "<table border=\"1\" class=\"dataframe\">\n",
       "  <thead>\n",
       "    <tr style=\"text-align: right;\">\n",
       "      <th></th>\n",
       "      <th>label_1</th>\n",
       "      <th>label_2</th>\n",
       "      <th>label_3</th>\n",
       "      <th>0</th>\n",
       "    </tr>\n",
       "  </thead>\n",
       "  <tbody>\n",
       "    <tr>\n",
       "      <th>0</th>\n",
       "      <td>Strategy</td>\n",
       "      <td>Turn-Based Games</td>\n",
       "      <td>Turn-Based Tactics</td>\n",
       "      <td>0.000000</td>\n",
       "    </tr>\n",
       "    <tr>\n",
       "      <th>1</th>\n",
       "      <td>Strategy</td>\n",
       "      <td>Turn-Based Games</td>\n",
       "      <td>Turn-Based Combat</td>\n",
       "      <td>0.000000</td>\n",
       "    </tr>\n",
       "    <tr>\n",
       "      <th>2</th>\n",
       "      <td>Strategy</td>\n",
       "      <td>Turn-Based Games</td>\n",
       "      <td>Turn-Based Strategy</td>\n",
       "      <td>0.000000</td>\n",
       "    </tr>\n",
       "    <tr>\n",
       "      <th>3</th>\n",
       "      <td>Strategy</td>\n",
       "      <td>Turn-Based Games</td>\n",
       "      <td>Turn-Based</td>\n",
       "      <td>0.119801</td>\n",
       "    </tr>\n",
       "    <tr>\n",
       "      <th>4</th>\n",
       "      <td>Action</td>\n",
       "      <td>Action</td>\n",
       "      <td>Precision Platformer</td>\n",
       "      <td>0.000000</td>\n",
       "    </tr>\n",
       "    <tr>\n",
       "      <th>5</th>\n",
       "      <td>Action</td>\n",
       "      <td>Action</td>\n",
       "      <td>Parkour</td>\n",
       "      <td>0.000000</td>\n",
       "    </tr>\n",
       "    <tr>\n",
       "      <th>6</th>\n",
       "      <td>Action</td>\n",
       "      <td>Action</td>\n",
       "      <td>Runner</td>\n",
       "      <td>0.000000</td>\n",
       "    </tr>\n",
       "    <tr>\n",
       "      <th>7</th>\n",
       "      <td>Action</td>\n",
       "      <td>Action-Adventure</td>\n",
       "      <td>3D Platformer</td>\n",
       "      <td>0.000000</td>\n",
       "    </tr>\n",
       "    <tr>\n",
       "      <th>8</th>\n",
       "      <td>Action</td>\n",
       "      <td>Action-Adventure</td>\n",
       "      <td>Physics</td>\n",
       "      <td>0.000000</td>\n",
       "    </tr>\n",
       "    <tr>\n",
       "      <th>9</th>\n",
       "      <td>Action</td>\n",
       "      <td>Action-Adventure</td>\n",
       "      <td>Puzzle-Platformer</td>\n",
       "      <td>0.143874</td>\n",
       "    </tr>\n",
       "    <tr>\n",
       "      <th>10</th>\n",
       "      <td>Dark Action</td>\n",
       "      <td>Action-Adventure</td>\n",
       "      <td>Dark Fantasy</td>\n",
       "      <td>0.080986</td>\n",
       "    </tr>\n",
       "    <tr>\n",
       "      <th>11</th>\n",
       "      <td>Dark Action</td>\n",
       "      <td>Action-Adventure</td>\n",
       "      <td>Metroidvania</td>\n",
       "      <td>0.000000</td>\n",
       "    </tr>\n",
       "    <tr>\n",
       "      <th>12</th>\n",
       "      <td>Dark Action</td>\n",
       "      <td>Action-Adventure</td>\n",
       "      <td>Souls-like</td>\n",
       "      <td>0.000000</td>\n",
       "    </tr>\n",
       "    <tr>\n",
       "      <th>13</th>\n",
       "      <td>Dark Action</td>\n",
       "      <td>Combat</td>\n",
       "      <td>Action RPG</td>\n",
       "      <td>0.000000</td>\n",
       "    </tr>\n",
       "    <tr>\n",
       "      <th>14</th>\n",
       "      <td>Dark Action</td>\n",
       "      <td>Combat</td>\n",
       "      <td>Hack and Slash</td>\n",
       "      <td>0.000000</td>\n",
       "    </tr>\n",
       "  </tbody>\n",
       "</table>\n",
       "</div>"
      ],
      "text/plain": [
       "        label_1           label_2               label_3         0\n",
       "0      Strategy  Turn-Based Games    Turn-Based Tactics  0.000000\n",
       "1      Strategy  Turn-Based Games     Turn-Based Combat  0.000000\n",
       "2      Strategy  Turn-Based Games   Turn-Based Strategy  0.000000\n",
       "3      Strategy  Turn-Based Games            Turn-Based  0.119801\n",
       "4        Action            Action  Precision Platformer  0.000000\n",
       "5        Action            Action               Parkour  0.000000\n",
       "6        Action            Action                Runner  0.000000\n",
       "7        Action  Action-Adventure         3D Platformer  0.000000\n",
       "8        Action  Action-Adventure               Physics  0.000000\n",
       "9        Action  Action-Adventure     Puzzle-Platformer  0.143874\n",
       "10  Dark Action  Action-Adventure          Dark Fantasy  0.080986\n",
       "11  Dark Action  Action-Adventure          Metroidvania  0.000000\n",
       "12  Dark Action  Action-Adventure            Souls-like  0.000000\n",
       "13  Dark Action            Combat            Action RPG  0.000000\n",
       "14  Dark Action            Combat        Hack and Slash  0.000000"
      ]
     },
     "execution_count": 50,
     "metadata": {},
     "output_type": "execute_result"
    }
   ],
   "source": [
    "import random\n",
    "\n",
    "# if no vector exists, the first choices are the historical vector\n",
    "historical_vector = user_choices(choices=[['Shooter', 'Fantasy']])\n",
    "\n",
    "# day1\n",
    "cached_vector = user_choices(choices=[['Puzzle-Platformer'], ['Dark Fantasy'], ['Fantasy']])\n",
    "historical_vector = update_vector(historical_vector, cached_vector, 1, 0.8)\n",
    "\n",
    "# # day2\n",
    "cached_vector = user_choices(choices=[['Puzzle'], ['Puzzle-Platformer']])\n",
    "historical_vector = update_vector(historical_vector, cached_vector, 1, 0.8)\n",
    "\n",
    "# day2\n",
    "cached_vector = user_choices(choices=[['Adventure'], ['2D', 'Turn-Based']])\n",
    "historical_vector = update_vector(historical_vector, cached_vector, 1, 0.8)\n",
    "\n",
    "compute_recommendation(historical_vector, label_1_max=3)"
   ]
  },
  {
   "cell_type": "code",
   "execution_count": 56,
   "metadata": {},
   "outputs": [
    {
     "data": {
      "text/html": [
       "<div>\n",
       "<style scoped>\n",
       "    .dataframe tbody tr th:only-of-type {\n",
       "        vertical-align: middle;\n",
       "    }\n",
       "\n",
       "    .dataframe tbody tr th {\n",
       "        vertical-align: top;\n",
       "    }\n",
       "\n",
       "    .dataframe thead th {\n",
       "        text-align: right;\n",
       "    }\n",
       "</style>\n",
       "<table border=\"1\" class=\"dataframe\">\n",
       "  <thead>\n",
       "    <tr style=\"text-align: right;\">\n",
       "      <th></th>\n",
       "      <th>label_1</th>\n",
       "      <th>label_2</th>\n",
       "      <th>label_3</th>\n",
       "      <th>0</th>\n",
       "    </tr>\n",
       "  </thead>\n",
       "  <tbody>\n",
       "    <tr>\n",
       "      <th>0</th>\n",
       "      <td>Mastermind</td>\n",
       "      <td>Strategy</td>\n",
       "      <td>Tactical</td>\n",
       "      <td>4.721973e-02</td>\n",
       "    </tr>\n",
       "    <tr>\n",
       "      <th>1</th>\n",
       "      <td>Mastermind</td>\n",
       "      <td>Strategy</td>\n",
       "      <td>Wargame</td>\n",
       "      <td>2.194554e-11</td>\n",
       "    </tr>\n",
       "    <tr>\n",
       "      <th>2</th>\n",
       "      <td>Mastermind</td>\n",
       "      <td>Strategy</td>\n",
       "      <td>Military</td>\n",
       "      <td>4.715071e-02</td>\n",
       "    </tr>\n",
       "    <tr>\n",
       "      <th>3</th>\n",
       "      <td>Mastermind</td>\n",
       "      <td>Strategy</td>\n",
       "      <td>War</td>\n",
       "      <td>1.062447e-01</td>\n",
       "    </tr>\n",
       "    <tr>\n",
       "      <th>4</th>\n",
       "      <td>Mastermind</td>\n",
       "      <td>Strategy</td>\n",
       "      <td>Tower Defense</td>\n",
       "      <td>1.189063e-05</td>\n",
       "    </tr>\n",
       "    <tr>\n",
       "      <th>5</th>\n",
       "      <td>Mastermind</td>\n",
       "      <td>Strategy</td>\n",
       "      <td>Real Time Tactics</td>\n",
       "      <td>9.426686e-02</td>\n",
       "    </tr>\n",
       "    <tr>\n",
       "      <th>6</th>\n",
       "      <td>Mastermind</td>\n",
       "      <td>Strategy</td>\n",
       "      <td>RTS</td>\n",
       "      <td>9.245356e-05</td>\n",
       "    </tr>\n",
       "    <tr>\n",
       "      <th>7</th>\n",
       "      <td>Social</td>\n",
       "      <td>Multiplayer</td>\n",
       "      <td>Competitive</td>\n",
       "      <td>5.337748e-05</td>\n",
       "    </tr>\n",
       "    <tr>\n",
       "      <th>8</th>\n",
       "      <td>Social</td>\n",
       "      <td>Multiplayer</td>\n",
       "      <td>PvP</td>\n",
       "      <td>2.187027e-01</td>\n",
       "    </tr>\n",
       "    <tr>\n",
       "      <th>9</th>\n",
       "      <td>Social</td>\n",
       "      <td>Multiplayer</td>\n",
       "      <td>Team-Based</td>\n",
       "      <td>2.186875e-01</td>\n",
       "    </tr>\n",
       "    <tr>\n",
       "      <th>10</th>\n",
       "      <td>Social</td>\n",
       "      <td>Multiplayer</td>\n",
       "      <td>e-sports</td>\n",
       "      <td>7.459180e-14</td>\n",
       "    </tr>\n",
       "    <tr>\n",
       "      <th>11</th>\n",
       "      <td>Action</td>\n",
       "      <td>Action</td>\n",
       "      <td>Precision Platformer</td>\n",
       "      <td>1.248910e-02</td>\n",
       "    </tr>\n",
       "    <tr>\n",
       "      <th>12</th>\n",
       "      <td>Action</td>\n",
       "      <td>Action</td>\n",
       "      <td>Parkour</td>\n",
       "      <td>7.813355e-04</td>\n",
       "    </tr>\n",
       "    <tr>\n",
       "      <th>13</th>\n",
       "      <td>Action</td>\n",
       "      <td>Action</td>\n",
       "      <td>Runner</td>\n",
       "      <td>4.995678e-02</td>\n",
       "    </tr>\n",
       "    <tr>\n",
       "      <th>14</th>\n",
       "      <td>Action</td>\n",
       "      <td>Action-Adventure</td>\n",
       "      <td>3D Platformer</td>\n",
       "      <td>3.749248e-02</td>\n",
       "    </tr>\n",
       "    <tr>\n",
       "      <th>15</th>\n",
       "      <td>Action</td>\n",
       "      <td>Action-Adventure</td>\n",
       "      <td>Physics</td>\n",
       "      <td>1.280388e-01</td>\n",
       "    </tr>\n",
       "    <tr>\n",
       "      <th>16</th>\n",
       "      <td>Action</td>\n",
       "      <td>Action-Adventure</td>\n",
       "      <td>Puzzle-Platformer</td>\n",
       "      <td>3.844301e-02</td>\n",
       "    </tr>\n",
       "  </tbody>\n",
       "</table>\n",
       "</div>"
      ],
      "text/plain": [
       "       label_1           label_2               label_3             0\n",
       "0   Mastermind          Strategy              Tactical  4.721973e-02\n",
       "1   Mastermind          Strategy               Wargame  2.194554e-11\n",
       "2   Mastermind          Strategy              Military  4.715071e-02\n",
       "3   Mastermind          Strategy                   War  1.062447e-01\n",
       "4   Mastermind          Strategy         Tower Defense  1.189063e-05\n",
       "5   Mastermind          Strategy     Real Time Tactics  9.426686e-02\n",
       "6   Mastermind          Strategy                   RTS  9.245356e-05\n",
       "7       Social       Multiplayer           Competitive  5.337748e-05\n",
       "8       Social       Multiplayer                   PvP  2.187027e-01\n",
       "9       Social       Multiplayer            Team-Based  2.186875e-01\n",
       "10      Social       Multiplayer              e-sports  7.459180e-14\n",
       "11      Action            Action  Precision Platformer  1.248910e-02\n",
       "12      Action            Action               Parkour  7.813355e-04\n",
       "13      Action            Action                Runner  4.995678e-02\n",
       "14      Action  Action-Adventure         3D Platformer  3.749248e-02\n",
       "15      Action  Action-Adventure               Physics  1.280388e-01\n",
       "16      Action  Action-Adventure     Puzzle-Platformer  3.844301e-02"
      ]
     },
     "execution_count": 56,
     "metadata": {},
     "output_type": "execute_result"
    }
   ],
   "source": [
    "for day in range(100):\n",
    "\tr = random.randint(3, 7)\n",
    "\tcached_vector = user_choices(random.choices(sample_list, k=r))\n",
    "\thistorical_vector = update_vector(historical_vector, cached_vector, 1, 0.5)\n",
    "compute_recommendation(historical_vector, label_1_max=3)"
   ]
  },
  {
   "cell_type": "markdown",
   "metadata": {},
   "source": [
    "### validation"
   ]
  },
  {
   "cell_type": "code",
   "execution_count": 176,
   "metadata": {},
   "outputs": [
    {
     "data": {
      "application/vnd.plotly.v1+json": {
       "config": {
        "plotlyServerURL": "https://plot.ly"
       },
       "data": [
        {
         "alignmentgroup": "True",
         "hovertemplate": "cluster=%{x}<br>frequency=%{y}<extra></extra>",
         "legendgroup": "",
         "marker": {
          "color": "#636efa",
          "pattern": {
           "shape": ""
          }
         },
         "name": "",
         "offsetgroup": "",
         "orientation": "v",
         "showlegend": false,
         "textposition": "auto",
         "type": "bar",
         "x": [
          "Action",
          "Retro Fashion",
          "Entertainment",
          "Audio Innovation",
          "Master Strategy",
          "Computer Graphics & Development",
          "Humor",
          "Linguistics",
          "Local Multiplayer",
          "Martial Arts Fantasy",
          "Mature",
          "Gaming",
          "Outdoors & Wildlife",
          "Rural Economy",
          "Strategy RPG",
          "Military Strategy",
          "Maritime Related",
          "Social",
          "Public Sector",
          "Strategy",
          "Dark Action",
          "Virtual Reality",
          "Racing",
          "Roguelike",
          "Industrial Simulation",
          "Simulation-Based",
          "Mastermind",
          "Emerging Technologies",
          "Media Production",
          "Mature Content",
          "Narrative Design",
          "Vehicles",
          "Infrastructure",
          "Sports",
          "Social Lifestyle",
          "Technology",
          "Avant-Garde Dark Fiction",
          "Funding_Options",
          "Horror",
          "Romance Interactive Fiction",
          "Post-Apocalyptic",
          "Illustrative/Theoretical",
          "Gaming Community",
          "Emotional",
          "Adventure Sports",
          "Wargaming",
          "Fantasy Action Games",
          "Exploration-based Survival",
          "Retro Action Challenge",
          "Immersive Action",
          "Virtual Worlds",
          "Classic Platformer",
          "Whimsical Humor",
          "Epic Quest"
         ],
         "xaxis": "x",
         "y": [
          2628,
          1778,
          1730,
          1693,
          1571,
          1552,
          1507,
          1484,
          1426,
          1426,
          1408,
          1395,
          1389,
          1342,
          1318,
          1304,
          1268,
          1262,
          1236,
          1223,
          1137,
          1127,
          1126,
          1094,
          1047,
          1046,
          1024,
          1005,
          938,
          919,
          896,
          829,
          821,
          763,
          686,
          678,
          662,
          583,
          482,
          427,
          396,
          353,
          342,
          338,
          238,
          235,
          232,
          195,
          73,
          33,
          32,
          29,
          26,
          9
         ],
         "yaxis": "y"
        }
       ],
       "layout": {
        "barmode": "relative",
        "legend": {
         "tracegroupgap": 0
        },
        "margin": {
         "t": 60
        },
        "template": {
         "data": {
          "bar": [
           {
            "error_x": {
             "color": "#2a3f5f"
            },
            "error_y": {
             "color": "#2a3f5f"
            },
            "marker": {
             "line": {
              "color": "#E5ECF6",
              "width": 0.5
             },
             "pattern": {
              "fillmode": "overlay",
              "size": 10,
              "solidity": 0.2
             }
            },
            "type": "bar"
           }
          ],
          "barpolar": [
           {
            "marker": {
             "line": {
              "color": "#E5ECF6",
              "width": 0.5
             },
             "pattern": {
              "fillmode": "overlay",
              "size": 10,
              "solidity": 0.2
             }
            },
            "type": "barpolar"
           }
          ],
          "carpet": [
           {
            "aaxis": {
             "endlinecolor": "#2a3f5f",
             "gridcolor": "white",
             "linecolor": "white",
             "minorgridcolor": "white",
             "startlinecolor": "#2a3f5f"
            },
            "baxis": {
             "endlinecolor": "#2a3f5f",
             "gridcolor": "white",
             "linecolor": "white",
             "minorgridcolor": "white",
             "startlinecolor": "#2a3f5f"
            },
            "type": "carpet"
           }
          ],
          "choropleth": [
           {
            "colorbar": {
             "outlinewidth": 0,
             "ticks": ""
            },
            "type": "choropleth"
           }
          ],
          "contour": [
           {
            "colorbar": {
             "outlinewidth": 0,
             "ticks": ""
            },
            "colorscale": [
             [
              0,
              "#0d0887"
             ],
             [
              0.1111111111111111,
              "#46039f"
             ],
             [
              0.2222222222222222,
              "#7201a8"
             ],
             [
              0.3333333333333333,
              "#9c179e"
             ],
             [
              0.4444444444444444,
              "#bd3786"
             ],
             [
              0.5555555555555556,
              "#d8576b"
             ],
             [
              0.6666666666666666,
              "#ed7953"
             ],
             [
              0.7777777777777778,
              "#fb9f3a"
             ],
             [
              0.8888888888888888,
              "#fdca26"
             ],
             [
              1,
              "#f0f921"
             ]
            ],
            "type": "contour"
           }
          ],
          "contourcarpet": [
           {
            "colorbar": {
             "outlinewidth": 0,
             "ticks": ""
            },
            "type": "contourcarpet"
           }
          ],
          "heatmap": [
           {
            "colorbar": {
             "outlinewidth": 0,
             "ticks": ""
            },
            "colorscale": [
             [
              0,
              "#0d0887"
             ],
             [
              0.1111111111111111,
              "#46039f"
             ],
             [
              0.2222222222222222,
              "#7201a8"
             ],
             [
              0.3333333333333333,
              "#9c179e"
             ],
             [
              0.4444444444444444,
              "#bd3786"
             ],
             [
              0.5555555555555556,
              "#d8576b"
             ],
             [
              0.6666666666666666,
              "#ed7953"
             ],
             [
              0.7777777777777778,
              "#fb9f3a"
             ],
             [
              0.8888888888888888,
              "#fdca26"
             ],
             [
              1,
              "#f0f921"
             ]
            ],
            "type": "heatmap"
           }
          ],
          "heatmapgl": [
           {
            "colorbar": {
             "outlinewidth": 0,
             "ticks": ""
            },
            "colorscale": [
             [
              0,
              "#0d0887"
             ],
             [
              0.1111111111111111,
              "#46039f"
             ],
             [
              0.2222222222222222,
              "#7201a8"
             ],
             [
              0.3333333333333333,
              "#9c179e"
             ],
             [
              0.4444444444444444,
              "#bd3786"
             ],
             [
              0.5555555555555556,
              "#d8576b"
             ],
             [
              0.6666666666666666,
              "#ed7953"
             ],
             [
              0.7777777777777778,
              "#fb9f3a"
             ],
             [
              0.8888888888888888,
              "#fdca26"
             ],
             [
              1,
              "#f0f921"
             ]
            ],
            "type": "heatmapgl"
           }
          ],
          "histogram": [
           {
            "marker": {
             "pattern": {
              "fillmode": "overlay",
              "size": 10,
              "solidity": 0.2
             }
            },
            "type": "histogram"
           }
          ],
          "histogram2d": [
           {
            "colorbar": {
             "outlinewidth": 0,
             "ticks": ""
            },
            "colorscale": [
             [
              0,
              "#0d0887"
             ],
             [
              0.1111111111111111,
              "#46039f"
             ],
             [
              0.2222222222222222,
              "#7201a8"
             ],
             [
              0.3333333333333333,
              "#9c179e"
             ],
             [
              0.4444444444444444,
              "#bd3786"
             ],
             [
              0.5555555555555556,
              "#d8576b"
             ],
             [
              0.6666666666666666,
              "#ed7953"
             ],
             [
              0.7777777777777778,
              "#fb9f3a"
             ],
             [
              0.8888888888888888,
              "#fdca26"
             ],
             [
              1,
              "#f0f921"
             ]
            ],
            "type": "histogram2d"
           }
          ],
          "histogram2dcontour": [
           {
            "colorbar": {
             "outlinewidth": 0,
             "ticks": ""
            },
            "colorscale": [
             [
              0,
              "#0d0887"
             ],
             [
              0.1111111111111111,
              "#46039f"
             ],
             [
              0.2222222222222222,
              "#7201a8"
             ],
             [
              0.3333333333333333,
              "#9c179e"
             ],
             [
              0.4444444444444444,
              "#bd3786"
             ],
             [
              0.5555555555555556,
              "#d8576b"
             ],
             [
              0.6666666666666666,
              "#ed7953"
             ],
             [
              0.7777777777777778,
              "#fb9f3a"
             ],
             [
              0.8888888888888888,
              "#fdca26"
             ],
             [
              1,
              "#f0f921"
             ]
            ],
            "type": "histogram2dcontour"
           }
          ],
          "mesh3d": [
           {
            "colorbar": {
             "outlinewidth": 0,
             "ticks": ""
            },
            "type": "mesh3d"
           }
          ],
          "parcoords": [
           {
            "line": {
             "colorbar": {
              "outlinewidth": 0,
              "ticks": ""
             }
            },
            "type": "parcoords"
           }
          ],
          "pie": [
           {
            "automargin": true,
            "type": "pie"
           }
          ],
          "scatter": [
           {
            "fillpattern": {
             "fillmode": "overlay",
             "size": 10,
             "solidity": 0.2
            },
            "type": "scatter"
           }
          ],
          "scatter3d": [
           {
            "line": {
             "colorbar": {
              "outlinewidth": 0,
              "ticks": ""
             }
            },
            "marker": {
             "colorbar": {
              "outlinewidth": 0,
              "ticks": ""
             }
            },
            "type": "scatter3d"
           }
          ],
          "scattercarpet": [
           {
            "marker": {
             "colorbar": {
              "outlinewidth": 0,
              "ticks": ""
             }
            },
            "type": "scattercarpet"
           }
          ],
          "scattergeo": [
           {
            "marker": {
             "colorbar": {
              "outlinewidth": 0,
              "ticks": ""
             }
            },
            "type": "scattergeo"
           }
          ],
          "scattergl": [
           {
            "marker": {
             "colorbar": {
              "outlinewidth": 0,
              "ticks": ""
             }
            },
            "type": "scattergl"
           }
          ],
          "scattermapbox": [
           {
            "marker": {
             "colorbar": {
              "outlinewidth": 0,
              "ticks": ""
             }
            },
            "type": "scattermapbox"
           }
          ],
          "scatterpolar": [
           {
            "marker": {
             "colorbar": {
              "outlinewidth": 0,
              "ticks": ""
             }
            },
            "type": "scatterpolar"
           }
          ],
          "scatterpolargl": [
           {
            "marker": {
             "colorbar": {
              "outlinewidth": 0,
              "ticks": ""
             }
            },
            "type": "scatterpolargl"
           }
          ],
          "scatterternary": [
           {
            "marker": {
             "colorbar": {
              "outlinewidth": 0,
              "ticks": ""
             }
            },
            "type": "scatterternary"
           }
          ],
          "surface": [
           {
            "colorbar": {
             "outlinewidth": 0,
             "ticks": ""
            },
            "colorscale": [
             [
              0,
              "#0d0887"
             ],
             [
              0.1111111111111111,
              "#46039f"
             ],
             [
              0.2222222222222222,
              "#7201a8"
             ],
             [
              0.3333333333333333,
              "#9c179e"
             ],
             [
              0.4444444444444444,
              "#bd3786"
             ],
             [
              0.5555555555555556,
              "#d8576b"
             ],
             [
              0.6666666666666666,
              "#ed7953"
             ],
             [
              0.7777777777777778,
              "#fb9f3a"
             ],
             [
              0.8888888888888888,
              "#fdca26"
             ],
             [
              1,
              "#f0f921"
             ]
            ],
            "type": "surface"
           }
          ],
          "table": [
           {
            "cells": {
             "fill": {
              "color": "#EBF0F8"
             },
             "line": {
              "color": "white"
             }
            },
            "header": {
             "fill": {
              "color": "#C8D4E3"
             },
             "line": {
              "color": "white"
             }
            },
            "type": "table"
           }
          ]
         },
         "layout": {
          "annotationdefaults": {
           "arrowcolor": "#2a3f5f",
           "arrowhead": 0,
           "arrowwidth": 1
          },
          "autotypenumbers": "strict",
          "coloraxis": {
           "colorbar": {
            "outlinewidth": 0,
            "ticks": ""
           }
          },
          "colorscale": {
           "diverging": [
            [
             0,
             "#8e0152"
            ],
            [
             0.1,
             "#c51b7d"
            ],
            [
             0.2,
             "#de77ae"
            ],
            [
             0.3,
             "#f1b6da"
            ],
            [
             0.4,
             "#fde0ef"
            ],
            [
             0.5,
             "#f7f7f7"
            ],
            [
             0.6,
             "#e6f5d0"
            ],
            [
             0.7,
             "#b8e186"
            ],
            [
             0.8,
             "#7fbc41"
            ],
            [
             0.9,
             "#4d9221"
            ],
            [
             1,
             "#276419"
            ]
           ],
           "sequential": [
            [
             0,
             "#0d0887"
            ],
            [
             0.1111111111111111,
             "#46039f"
            ],
            [
             0.2222222222222222,
             "#7201a8"
            ],
            [
             0.3333333333333333,
             "#9c179e"
            ],
            [
             0.4444444444444444,
             "#bd3786"
            ],
            [
             0.5555555555555556,
             "#d8576b"
            ],
            [
             0.6666666666666666,
             "#ed7953"
            ],
            [
             0.7777777777777778,
             "#fb9f3a"
            ],
            [
             0.8888888888888888,
             "#fdca26"
            ],
            [
             1,
             "#f0f921"
            ]
           ],
           "sequentialminus": [
            [
             0,
             "#0d0887"
            ],
            [
             0.1111111111111111,
             "#46039f"
            ],
            [
             0.2222222222222222,
             "#7201a8"
            ],
            [
             0.3333333333333333,
             "#9c179e"
            ],
            [
             0.4444444444444444,
             "#bd3786"
            ],
            [
             0.5555555555555556,
             "#d8576b"
            ],
            [
             0.6666666666666666,
             "#ed7953"
            ],
            [
             0.7777777777777778,
             "#fb9f3a"
            ],
            [
             0.8888888888888888,
             "#fdca26"
            ],
            [
             1,
             "#f0f921"
            ]
           ]
          },
          "colorway": [
           "#636efa",
           "#EF553B",
           "#00cc96",
           "#ab63fa",
           "#FFA15A",
           "#19d3f3",
           "#FF6692",
           "#B6E880",
           "#FF97FF",
           "#FECB52"
          ],
          "font": {
           "color": "#2a3f5f"
          },
          "geo": {
           "bgcolor": "white",
           "lakecolor": "white",
           "landcolor": "#E5ECF6",
           "showlakes": true,
           "showland": true,
           "subunitcolor": "white"
          },
          "hoverlabel": {
           "align": "left"
          },
          "hovermode": "closest",
          "mapbox": {
           "style": "light"
          },
          "paper_bgcolor": "white",
          "plot_bgcolor": "#E5ECF6",
          "polar": {
           "angularaxis": {
            "gridcolor": "white",
            "linecolor": "white",
            "ticks": ""
           },
           "bgcolor": "#E5ECF6",
           "radialaxis": {
            "gridcolor": "white",
            "linecolor": "white",
            "ticks": ""
           }
          },
          "scene": {
           "xaxis": {
            "backgroundcolor": "#E5ECF6",
            "gridcolor": "white",
            "gridwidth": 2,
            "linecolor": "white",
            "showbackground": true,
            "ticks": "",
            "zerolinecolor": "white"
           },
           "yaxis": {
            "backgroundcolor": "#E5ECF6",
            "gridcolor": "white",
            "gridwidth": 2,
            "linecolor": "white",
            "showbackground": true,
            "ticks": "",
            "zerolinecolor": "white"
           },
           "zaxis": {
            "backgroundcolor": "#E5ECF6",
            "gridcolor": "white",
            "gridwidth": 2,
            "linecolor": "white",
            "showbackground": true,
            "ticks": "",
            "zerolinecolor": "white"
           }
          },
          "shapedefaults": {
           "line": {
            "color": "#2a3f5f"
           }
          },
          "ternary": {
           "aaxis": {
            "gridcolor": "white",
            "linecolor": "white",
            "ticks": ""
           },
           "baxis": {
            "gridcolor": "white",
            "linecolor": "white",
            "ticks": ""
           },
           "bgcolor": "#E5ECF6",
           "caxis": {
            "gridcolor": "white",
            "linecolor": "white",
            "ticks": ""
           }
          },
          "title": {
           "x": 0.05
          },
          "xaxis": {
           "automargin": true,
           "gridcolor": "white",
           "linecolor": "white",
           "ticks": "",
           "title": {
            "standoff": 15
           },
           "zerolinecolor": "white",
           "zerolinewidth": 2
          },
          "yaxis": {
           "automargin": true,
           "gridcolor": "white",
           "linecolor": "white",
           "ticks": "",
           "title": {
            "standoff": 15
           },
           "zerolinecolor": "white",
           "zerolinewidth": 2
          }
         }
        },
        "xaxis": {
         "anchor": "y",
         "domain": [
          0,
          1
         ],
         "title": {
          "text": "cluster"
         }
        },
        "yaxis": {
         "anchor": "x",
         "domain": [
          0,
          1
         ],
         "title": {
          "text": "frequency"
         }
        }
       }
      }
     },
     "metadata": {},
     "output_type": "display_data"
    }
   ],
   "source": [
    "import random\n",
    "\n",
    "# using tag_frequency\n",
    "def sims():\n",
    "\thistorical_vector = user_choices(random.choices(sample_list, k=5))\n",
    "\tfor day in range(100):\n",
    "\t\tr = random.randint(3, 7)\n",
    "\t\tcached_vector = user_choices(random.choices(sample_list, k=r))\n",
    "\t\thistorical_vector = update_vector(historical_vector, cached_vector, 1, 0.5)\n",
    "\tresults = compute_recommendation(historical_vector, label_1_max=5)\n",
    "\treturn results['label_1'].unique().tolist()\n",
    "\n",
    "results = list()\n",
    "for s in range(10000):\n",
    "\ts_results = sims()\n",
    "\tresults.append(s_results)\n",
    "\n",
    "plot_sim_freq(results)"
   ]
  },
  {
   "cell_type": "code",
   "execution_count": 173,
   "metadata": {},
   "outputs": [
    {
     "data": {
      "text/html": [
       "<div>\n",
       "<style scoped>\n",
       "    .dataframe tbody tr th:only-of-type {\n",
       "        vertical-align: middle;\n",
       "    }\n",
       "\n",
       "    .dataframe tbody tr th {\n",
       "        vertical-align: top;\n",
       "    }\n",
       "\n",
       "    .dataframe thead th {\n",
       "        text-align: right;\n",
       "    }\n",
       "</style>\n",
       "<table border=\"1\" class=\"dataframe\">\n",
       "  <thead>\n",
       "    <tr style=\"text-align: right;\">\n",
       "      <th></th>\n",
       "      <th>0</th>\n",
       "      <th>1</th>\n",
       "      <th>count</th>\n",
       "      <th>freq</th>\n",
       "      <th>diff</th>\n",
       "    </tr>\n",
       "  </thead>\n",
       "  <tbody>\n",
       "    <tr>\n",
       "      <th>0</th>\n",
       "      <td>Extremely Fun</td>\n",
       "      <td>0.006852</td>\n",
       "      <td>49411</td>\n",
       "      <td>0.016928</td>\n",
       "      <td>-0.000021</td>\n",
       "    </tr>\n",
       "    <tr>\n",
       "      <th>1</th>\n",
       "      <td>Epic Quest</td>\n",
       "      <td>0.025694</td>\n",
       "      <td>13124</td>\n",
       "      <td>0.016861</td>\n",
       "      <td>-0.000089</td>\n",
       "    </tr>\n",
       "    <tr>\n",
       "      <th>2</th>\n",
       "      <td>Retro Action Challenge</td>\n",
       "      <td>0.027018</td>\n",
       "      <td>12287</td>\n",
       "      <td>0.016598</td>\n",
       "      <td>-0.000351</td>\n",
       "    </tr>\n",
       "    <tr>\n",
       "      <th>3</th>\n",
       "      <td>Whimsical Humor</td>\n",
       "      <td>0.028421</td>\n",
       "      <td>11735</td>\n",
       "      <td>0.016676</td>\n",
       "      <td>-0.000273</td>\n",
       "    </tr>\n",
       "    <tr>\n",
       "      <th>4</th>\n",
       "      <td>Immersive Action</td>\n",
       "      <td>0.028752</td>\n",
       "      <td>11615</td>\n",
       "      <td>0.016698</td>\n",
       "      <td>-0.000251</td>\n",
       "    </tr>\n",
       "    <tr>\n",
       "      <th>5</th>\n",
       "      <td>Classic Platformer</td>\n",
       "      <td>0.029185</td>\n",
       "      <td>11570</td>\n",
       "      <td>0.016884</td>\n",
       "      <td>-0.000065</td>\n",
       "    </tr>\n",
       "    <tr>\n",
       "      <th>6</th>\n",
       "      <td>Fantasy Action Games</td>\n",
       "      <td>0.032888</td>\n",
       "      <td>10213</td>\n",
       "      <td>0.016794</td>\n",
       "      <td>-0.000155</td>\n",
       "    </tr>\n",
       "    <tr>\n",
       "      <th>7</th>\n",
       "      <td>Entertainment</td>\n",
       "      <td>0.037323</td>\n",
       "      <td>9077</td>\n",
       "      <td>0.016939</td>\n",
       "      <td>-0.000010</td>\n",
       "    </tr>\n",
       "    <tr>\n",
       "      <th>8</th>\n",
       "      <td>Exploration-based Survival</td>\n",
       "      <td>0.042276</td>\n",
       "      <td>7966</td>\n",
       "      <td>0.016838</td>\n",
       "      <td>-0.000111</td>\n",
       "    </tr>\n",
       "    <tr>\n",
       "      <th>9</th>\n",
       "      <td>Virtual Worlds</td>\n",
       "      <td>0.044283</td>\n",
       "      <td>7571</td>\n",
       "      <td>0.016763</td>\n",
       "      <td>-0.000186</td>\n",
       "    </tr>\n",
       "  </tbody>\n",
       "</table>\n",
       "</div>"
      ],
      "text/plain": [
       "                            0         1  count      freq      diff\n",
       "0               Extremely Fun  0.006852  49411  0.016928 -0.000021\n",
       "1                  Epic Quest  0.025694  13124  0.016861 -0.000089\n",
       "2      Retro Action Challenge  0.027018  12287  0.016598 -0.000351\n",
       "3             Whimsical Humor  0.028421  11735  0.016676 -0.000273\n",
       "4            Immersive Action  0.028752  11615  0.016698 -0.000251\n",
       "5          Classic Platformer  0.029185  11570  0.016884 -0.000065\n",
       "6        Fantasy Action Games  0.032888  10213  0.016794 -0.000155\n",
       "7               Entertainment  0.037323   9077  0.016939 -0.000010\n",
       "8  Exploration-based Survival  0.042276   7966  0.016838 -0.000111\n",
       "9              Virtual Worlds  0.044283   7571  0.016763 -0.000186"
      ]
     },
     "execution_count": 173,
     "metadata": {},
     "output_type": "execute_result"
    }
   ],
   "source": [
    "# count cluster frequency from sample sampling\n",
    "k = 20000\n",
    "res_list = list()\n",
    "random_samples = random.choices(sample_list, k=k)\n",
    "random_samples = [item for sublist in random_samples for item in sublist]\n",
    "# random_samples becomes all the individual tags extracted from our choices\n",
    "for chosen_tag in random_samples:\n",
    "\tcluster = df_labeled[df_labeled['label_3']==chosen_tag]['label_1'].tolist()[0]\n",
    "\t# apply multiplier\n",
    "\tchosen_tag_score = tag_frequency_labeled[chosen_tag]\n",
    "\tres_list.append([cluster, chosen_tag_score])\n",
    "\n",
    "target_uniform = 1/len(df['label_1'].unique())\n",
    "df_freq = pd.DataFrame(res_list).value_counts()\n",
    "df_freq = df_freq.reset_index()\n",
    "# df_freq.columns = ['']\n",
    "df_freq['count'] = df_freq['count']\n",
    "df_freq['freq'] = df_freq[1]*df_freq['count']/k\n",
    "df_freq['diff'] = df_freq['freq']-target_uniform\n",
    "df_freq[0:10]"
   ]
  },
  {
   "cell_type": "code",
   "execution_count": 174,
   "metadata": {},
   "outputs": [
    {
     "data": {
      "application/vnd.plotly.v1+json": {
       "config": {
        "plotlyServerURL": "https://plot.ly"
       },
       "data": [
        {
         "alignmentgroup": "True",
         "hovertemplate": "0=%{x}<br>freq=%{y}<extra></extra>",
         "legendgroup": "",
         "marker": {
          "color": "#636efa",
          "pattern": {
           "shape": ""
          }
         },
         "name": "",
         "offsetgroup": "",
         "orientation": "v",
         "showlegend": false,
         "textposition": "auto",
         "type": "bar",
         "x": [
          "Extremely Fun",
          "Epic Quest",
          "Retro Action Challenge",
          "Whimsical Humor",
          "Immersive Action",
          "Classic Platformer",
          "Fantasy Action Games",
          "Entertainment",
          "Exploration-based Survival",
          "Virtual Worlds",
          "Romance Interactive Fiction",
          "Avant-Garde Dark Fiction",
          "Illustrative/Theoretical",
          "Post-Apocalyptic",
          "Horror",
          "Technology",
          "Gaming Community",
          "Roguelike",
          "Simulation-Based",
          "Narrative Design",
          "Action",
          "Mastermind",
          "Action",
          "Action",
          "Mature",
          "Racing",
          "Strategy",
          "Mature Content",
          "Action",
          "Emerging Technologies",
          "Industrial Simulation",
          "Strategy RPG",
          "Martial Arts Fantasy",
          "Local Multiplayer",
          "Military Strategy",
          "Virtual Reality",
          "Outdoors & Wildlife",
          "Gaming",
          "Social",
          "Humor",
          "Retro Fashion",
          "Master Strategy",
          "Computer Graphics & Development",
          "Entertainment",
          "Audio Innovation",
          "Linguistics",
          "Public Sector",
          "Maritime Related",
          "Rural Economy",
          "Media Production",
          "Vehicles",
          "Infrastructure",
          "Social Lifestyle",
          "Funding_Options",
          "Sports",
          "Wargaming",
          "Emotional",
          "Sports",
          "Adventure Sports"
         ],
         "xaxis": "x",
         "y": [
          0.01692790949559381,
          0.016860557913433903,
          0.016598277510482085,
          0.016675995285764918,
          0.016697758510399795,
          0.016883716592687243,
          0.01679435655646424,
          0.016939054250816127,
          0.01683837143775952,
          0.016763169938194888,
          0.017151743274332127,
          0.01709196126243096,
          0.01689235366448958,
          0.01677376178746766,
          0.016896659107185484,
          0.017083319415920017,
          0.016597959757477885,
          0.017433141163866437,
          0.017056940551250645,
          0.017773871483896843,
          0.01659200752159212,
          0.01711206039751056,
          0.01677535916288245,
          0.017276615118149204,
          0.016654597014533472,
          0.017366850597823325,
          0.016700267106988485,
          0.016719404448588576,
          0.016754001623401116,
          0.017021611804908743,
          0.016438143090137417,
          0.016929240075825157,
          0.01676213223995674,
          0.01756504014719224,
          0.017670119686694873,
          0.0165008627906013,
          0.01774873277364169,
          0.01689666200656603,
          0.016812967066196064,
          0.01627270930189992,
          0.017454823446327684,
          0.017644150565125027,
          0.016709636066420033,
          0.01649298005538375,
          0.016419392015817477,
          0.017922237870914477,
          0.01688101694915254,
          0.016367307832599765,
          0.01389112889576634,
          0.018143228440872416,
          0.015865617433414046,
          0.01776949152542373,
          0.016996904937361827,
          0.018189243293740828,
          0.01628217725677593,
          0.019016473386856976,
          0.012981305186237697,
          0.013560927743086528,
          0.013173933372296904
         ],
         "yaxis": "y"
        }
       ],
       "layout": {
        "barmode": "relative",
        "legend": {
         "tracegroupgap": 0
        },
        "margin": {
         "t": 60
        },
        "template": {
         "data": {
          "bar": [
           {
            "error_x": {
             "color": "#2a3f5f"
            },
            "error_y": {
             "color": "#2a3f5f"
            },
            "marker": {
             "line": {
              "color": "#E5ECF6",
              "width": 0.5
             },
             "pattern": {
              "fillmode": "overlay",
              "size": 10,
              "solidity": 0.2
             }
            },
            "type": "bar"
           }
          ],
          "barpolar": [
           {
            "marker": {
             "line": {
              "color": "#E5ECF6",
              "width": 0.5
             },
             "pattern": {
              "fillmode": "overlay",
              "size": 10,
              "solidity": 0.2
             }
            },
            "type": "barpolar"
           }
          ],
          "carpet": [
           {
            "aaxis": {
             "endlinecolor": "#2a3f5f",
             "gridcolor": "white",
             "linecolor": "white",
             "minorgridcolor": "white",
             "startlinecolor": "#2a3f5f"
            },
            "baxis": {
             "endlinecolor": "#2a3f5f",
             "gridcolor": "white",
             "linecolor": "white",
             "minorgridcolor": "white",
             "startlinecolor": "#2a3f5f"
            },
            "type": "carpet"
           }
          ],
          "choropleth": [
           {
            "colorbar": {
             "outlinewidth": 0,
             "ticks": ""
            },
            "type": "choropleth"
           }
          ],
          "contour": [
           {
            "colorbar": {
             "outlinewidth": 0,
             "ticks": ""
            },
            "colorscale": [
             [
              0,
              "#0d0887"
             ],
             [
              0.1111111111111111,
              "#46039f"
             ],
             [
              0.2222222222222222,
              "#7201a8"
             ],
             [
              0.3333333333333333,
              "#9c179e"
             ],
             [
              0.4444444444444444,
              "#bd3786"
             ],
             [
              0.5555555555555556,
              "#d8576b"
             ],
             [
              0.6666666666666666,
              "#ed7953"
             ],
             [
              0.7777777777777778,
              "#fb9f3a"
             ],
             [
              0.8888888888888888,
              "#fdca26"
             ],
             [
              1,
              "#f0f921"
             ]
            ],
            "type": "contour"
           }
          ],
          "contourcarpet": [
           {
            "colorbar": {
             "outlinewidth": 0,
             "ticks": ""
            },
            "type": "contourcarpet"
           }
          ],
          "heatmap": [
           {
            "colorbar": {
             "outlinewidth": 0,
             "ticks": ""
            },
            "colorscale": [
             [
              0,
              "#0d0887"
             ],
             [
              0.1111111111111111,
              "#46039f"
             ],
             [
              0.2222222222222222,
              "#7201a8"
             ],
             [
              0.3333333333333333,
              "#9c179e"
             ],
             [
              0.4444444444444444,
              "#bd3786"
             ],
             [
              0.5555555555555556,
              "#d8576b"
             ],
             [
              0.6666666666666666,
              "#ed7953"
             ],
             [
              0.7777777777777778,
              "#fb9f3a"
             ],
             [
              0.8888888888888888,
              "#fdca26"
             ],
             [
              1,
              "#f0f921"
             ]
            ],
            "type": "heatmap"
           }
          ],
          "heatmapgl": [
           {
            "colorbar": {
             "outlinewidth": 0,
             "ticks": ""
            },
            "colorscale": [
             [
              0,
              "#0d0887"
             ],
             [
              0.1111111111111111,
              "#46039f"
             ],
             [
              0.2222222222222222,
              "#7201a8"
             ],
             [
              0.3333333333333333,
              "#9c179e"
             ],
             [
              0.4444444444444444,
              "#bd3786"
             ],
             [
              0.5555555555555556,
              "#d8576b"
             ],
             [
              0.6666666666666666,
              "#ed7953"
             ],
             [
              0.7777777777777778,
              "#fb9f3a"
             ],
             [
              0.8888888888888888,
              "#fdca26"
             ],
             [
              1,
              "#f0f921"
             ]
            ],
            "type": "heatmapgl"
           }
          ],
          "histogram": [
           {
            "marker": {
             "pattern": {
              "fillmode": "overlay",
              "size": 10,
              "solidity": 0.2
             }
            },
            "type": "histogram"
           }
          ],
          "histogram2d": [
           {
            "colorbar": {
             "outlinewidth": 0,
             "ticks": ""
            },
            "colorscale": [
             [
              0,
              "#0d0887"
             ],
             [
              0.1111111111111111,
              "#46039f"
             ],
             [
              0.2222222222222222,
              "#7201a8"
             ],
             [
              0.3333333333333333,
              "#9c179e"
             ],
             [
              0.4444444444444444,
              "#bd3786"
             ],
             [
              0.5555555555555556,
              "#d8576b"
             ],
             [
              0.6666666666666666,
              "#ed7953"
             ],
             [
              0.7777777777777778,
              "#fb9f3a"
             ],
             [
              0.8888888888888888,
              "#fdca26"
             ],
             [
              1,
              "#f0f921"
             ]
            ],
            "type": "histogram2d"
           }
          ],
          "histogram2dcontour": [
           {
            "colorbar": {
             "outlinewidth": 0,
             "ticks": ""
            },
            "colorscale": [
             [
              0,
              "#0d0887"
             ],
             [
              0.1111111111111111,
              "#46039f"
             ],
             [
              0.2222222222222222,
              "#7201a8"
             ],
             [
              0.3333333333333333,
              "#9c179e"
             ],
             [
              0.4444444444444444,
              "#bd3786"
             ],
             [
              0.5555555555555556,
              "#d8576b"
             ],
             [
              0.6666666666666666,
              "#ed7953"
             ],
             [
              0.7777777777777778,
              "#fb9f3a"
             ],
             [
              0.8888888888888888,
              "#fdca26"
             ],
             [
              1,
              "#f0f921"
             ]
            ],
            "type": "histogram2dcontour"
           }
          ],
          "mesh3d": [
           {
            "colorbar": {
             "outlinewidth": 0,
             "ticks": ""
            },
            "type": "mesh3d"
           }
          ],
          "parcoords": [
           {
            "line": {
             "colorbar": {
              "outlinewidth": 0,
              "ticks": ""
             }
            },
            "type": "parcoords"
           }
          ],
          "pie": [
           {
            "automargin": true,
            "type": "pie"
           }
          ],
          "scatter": [
           {
            "fillpattern": {
             "fillmode": "overlay",
             "size": 10,
             "solidity": 0.2
            },
            "type": "scatter"
           }
          ],
          "scatter3d": [
           {
            "line": {
             "colorbar": {
              "outlinewidth": 0,
              "ticks": ""
             }
            },
            "marker": {
             "colorbar": {
              "outlinewidth": 0,
              "ticks": ""
             }
            },
            "type": "scatter3d"
           }
          ],
          "scattercarpet": [
           {
            "marker": {
             "colorbar": {
              "outlinewidth": 0,
              "ticks": ""
             }
            },
            "type": "scattercarpet"
           }
          ],
          "scattergeo": [
           {
            "marker": {
             "colorbar": {
              "outlinewidth": 0,
              "ticks": ""
             }
            },
            "type": "scattergeo"
           }
          ],
          "scattergl": [
           {
            "marker": {
             "colorbar": {
              "outlinewidth": 0,
              "ticks": ""
             }
            },
            "type": "scattergl"
           }
          ],
          "scattermapbox": [
           {
            "marker": {
             "colorbar": {
              "outlinewidth": 0,
              "ticks": ""
             }
            },
            "type": "scattermapbox"
           }
          ],
          "scatterpolar": [
           {
            "marker": {
             "colorbar": {
              "outlinewidth": 0,
              "ticks": ""
             }
            },
            "type": "scatterpolar"
           }
          ],
          "scatterpolargl": [
           {
            "marker": {
             "colorbar": {
              "outlinewidth": 0,
              "ticks": ""
             }
            },
            "type": "scatterpolargl"
           }
          ],
          "scatterternary": [
           {
            "marker": {
             "colorbar": {
              "outlinewidth": 0,
              "ticks": ""
             }
            },
            "type": "scatterternary"
           }
          ],
          "surface": [
           {
            "colorbar": {
             "outlinewidth": 0,
             "ticks": ""
            },
            "colorscale": [
             [
              0,
              "#0d0887"
             ],
             [
              0.1111111111111111,
              "#46039f"
             ],
             [
              0.2222222222222222,
              "#7201a8"
             ],
             [
              0.3333333333333333,
              "#9c179e"
             ],
             [
              0.4444444444444444,
              "#bd3786"
             ],
             [
              0.5555555555555556,
              "#d8576b"
             ],
             [
              0.6666666666666666,
              "#ed7953"
             ],
             [
              0.7777777777777778,
              "#fb9f3a"
             ],
             [
              0.8888888888888888,
              "#fdca26"
             ],
             [
              1,
              "#f0f921"
             ]
            ],
            "type": "surface"
           }
          ],
          "table": [
           {
            "cells": {
             "fill": {
              "color": "#EBF0F8"
             },
             "line": {
              "color": "white"
             }
            },
            "header": {
             "fill": {
              "color": "#C8D4E3"
             },
             "line": {
              "color": "white"
             }
            },
            "type": "table"
           }
          ]
         },
         "layout": {
          "annotationdefaults": {
           "arrowcolor": "#2a3f5f",
           "arrowhead": 0,
           "arrowwidth": 1
          },
          "autotypenumbers": "strict",
          "coloraxis": {
           "colorbar": {
            "outlinewidth": 0,
            "ticks": ""
           }
          },
          "colorscale": {
           "diverging": [
            [
             0,
             "#8e0152"
            ],
            [
             0.1,
             "#c51b7d"
            ],
            [
             0.2,
             "#de77ae"
            ],
            [
             0.3,
             "#f1b6da"
            ],
            [
             0.4,
             "#fde0ef"
            ],
            [
             0.5,
             "#f7f7f7"
            ],
            [
             0.6,
             "#e6f5d0"
            ],
            [
             0.7,
             "#b8e186"
            ],
            [
             0.8,
             "#7fbc41"
            ],
            [
             0.9,
             "#4d9221"
            ],
            [
             1,
             "#276419"
            ]
           ],
           "sequential": [
            [
             0,
             "#0d0887"
            ],
            [
             0.1111111111111111,
             "#46039f"
            ],
            [
             0.2222222222222222,
             "#7201a8"
            ],
            [
             0.3333333333333333,
             "#9c179e"
            ],
            [
             0.4444444444444444,
             "#bd3786"
            ],
            [
             0.5555555555555556,
             "#d8576b"
            ],
            [
             0.6666666666666666,
             "#ed7953"
            ],
            [
             0.7777777777777778,
             "#fb9f3a"
            ],
            [
             0.8888888888888888,
             "#fdca26"
            ],
            [
             1,
             "#f0f921"
            ]
           ],
           "sequentialminus": [
            [
             0,
             "#0d0887"
            ],
            [
             0.1111111111111111,
             "#46039f"
            ],
            [
             0.2222222222222222,
             "#7201a8"
            ],
            [
             0.3333333333333333,
             "#9c179e"
            ],
            [
             0.4444444444444444,
             "#bd3786"
            ],
            [
             0.5555555555555556,
             "#d8576b"
            ],
            [
             0.6666666666666666,
             "#ed7953"
            ],
            [
             0.7777777777777778,
             "#fb9f3a"
            ],
            [
             0.8888888888888888,
             "#fdca26"
            ],
            [
             1,
             "#f0f921"
            ]
           ]
          },
          "colorway": [
           "#636efa",
           "#EF553B",
           "#00cc96",
           "#ab63fa",
           "#FFA15A",
           "#19d3f3",
           "#FF6692",
           "#B6E880",
           "#FF97FF",
           "#FECB52"
          ],
          "font": {
           "color": "#2a3f5f"
          },
          "geo": {
           "bgcolor": "white",
           "lakecolor": "white",
           "landcolor": "#E5ECF6",
           "showlakes": true,
           "showland": true,
           "subunitcolor": "white"
          },
          "hoverlabel": {
           "align": "left"
          },
          "hovermode": "closest",
          "mapbox": {
           "style": "light"
          },
          "paper_bgcolor": "white",
          "plot_bgcolor": "#E5ECF6",
          "polar": {
           "angularaxis": {
            "gridcolor": "white",
            "linecolor": "white",
            "ticks": ""
           },
           "bgcolor": "#E5ECF6",
           "radialaxis": {
            "gridcolor": "white",
            "linecolor": "white",
            "ticks": ""
           }
          },
          "scene": {
           "xaxis": {
            "backgroundcolor": "#E5ECF6",
            "gridcolor": "white",
            "gridwidth": 2,
            "linecolor": "white",
            "showbackground": true,
            "ticks": "",
            "zerolinecolor": "white"
           },
           "yaxis": {
            "backgroundcolor": "#E5ECF6",
            "gridcolor": "white",
            "gridwidth": 2,
            "linecolor": "white",
            "showbackground": true,
            "ticks": "",
            "zerolinecolor": "white"
           },
           "zaxis": {
            "backgroundcolor": "#E5ECF6",
            "gridcolor": "white",
            "gridwidth": 2,
            "linecolor": "white",
            "showbackground": true,
            "ticks": "",
            "zerolinecolor": "white"
           }
          },
          "shapedefaults": {
           "line": {
            "color": "#2a3f5f"
           }
          },
          "ternary": {
           "aaxis": {
            "gridcolor": "white",
            "linecolor": "white",
            "ticks": ""
           },
           "baxis": {
            "gridcolor": "white",
            "linecolor": "white",
            "ticks": ""
           },
           "bgcolor": "#E5ECF6",
           "caxis": {
            "gridcolor": "white",
            "linecolor": "white",
            "ticks": ""
           }
          },
          "title": {
           "x": 0.05
          },
          "xaxis": {
           "automargin": true,
           "gridcolor": "white",
           "linecolor": "white",
           "ticks": "",
           "title": {
            "standoff": 15
           },
           "zerolinecolor": "white",
           "zerolinewidth": 2
          },
          "yaxis": {
           "automargin": true,
           "gridcolor": "white",
           "linecolor": "white",
           "ticks": "",
           "title": {
            "standoff": 15
           },
           "zerolinecolor": "white",
           "zerolinewidth": 2
          }
         }
        },
        "xaxis": {
         "anchor": "y",
         "domain": [
          0,
          1
         ],
         "title": {
          "text": "0"
         }
        },
        "yaxis": {
         "anchor": "x",
         "domain": [
          0,
          1
         ],
         "title": {
          "text": "freq"
         }
        }
       }
      }
     },
     "metadata": {},
     "output_type": "display_data"
    }
   ],
   "source": [
    "import plotly.express as px\n",
    "import pandas as pd\n",
    "\n",
    "df_values = df_freq[[0, 'freq']]\n",
    "fig = px.bar(df_values, x=0, y='freq')\n",
    "fig.show()\n",
    "# vertically stacked values are caused by label_1 clusters with duplicate names"
   ]
  },
  {
   "cell_type": "code",
   "execution_count": 175,
   "metadata": {},
   "outputs": [
    {
     "data": {
      "text/plain": [
       "<Axes: >"
      ]
     },
     "execution_count": 175,
     "metadata": {},
     "output_type": "execute_result"
    },
    {
     "data": {
      "image/png": "[encoded data removed]",
      "text/plain": [
       "<Figure size 640x480 with 1 Axes>"
      ]
     },
     "metadata": {},
     "output_type": "display_data"
    }
   ],
   "source": [
    "df_freq['diff'].hist(bins=20)"
   ]
  }
 ],
 "metadata": {
  "kernelspec": {
   "display_name": "env1",
   "language": "python",
   "name": "python3"
  },
  "language_info": {
   "codemirror_mode": {
    "name": "ipython",
    "version": 3
   },
   "file_extension": ".py",
   "mimetype": "text/x-python",
   "name": "python",
   "nbconvert_exporter": "python",
   "pygments_lexer": "ipython3",
   "version": "3.11.9"
  }
 },
 "nbformat": 4,
 "nbformat_minor": 2
}
